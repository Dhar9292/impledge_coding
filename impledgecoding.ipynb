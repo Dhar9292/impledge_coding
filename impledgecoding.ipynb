{
  "cells": [
    {
      "cell_type": "markdown",
      "metadata": {
        "id": "view-in-github",
        "colab_type": "text"
      },
      "source": [
        "<a href=\"https://colab.research.google.com/github/Dhar9292/impledge_coding/blob/main/impledgecoding.ipynb\" target=\"_parent\"><img src=\"https://colab.research.google.com/assets/colab-badge.svg\" alt=\"Open In Colab\"/></a>"
      ]
    },
    {
      "cell_type": "code",
      "source": [
        "#importing required library"
      ],
      "metadata": {
        "id": "t6yab4jjkzrm"
      },
      "execution_count": 11,
      "outputs": []
    },
    {
      "cell_type": "code",
      "source": [
        "import time"
      ],
      "metadata": {
        "id": "AURyTecmkz9G"
      },
      "execution_count": 12,
      "outputs": []
    },
    {
      "cell_type": "code",
      "source": [
        "# Function to check if a word can be compounded from smaller words in the list\n",
        "def check_compounded_words(word, word_set):\n",
        "    if not word:  # Added condition for empty strings\n",
        "        return True\n",
        "    for i in range(1, len(word)):\n",
        "        prefix, suffix = word[:i], word[i:]\n",
        "        if prefix in word_set and (suffix in word_set or check_compounded_words(suffix, word_set)):\n",
        "            return True\n",
        "    return False"
      ],
      "metadata": {
        "id": "dvXalSxLnbDY"
      },
      "execution_count": 13,
      "outputs": []
    },
    {
      "cell_type": "code",
      "source": [
        "def find_longest_compounded_words(input_file):\n",
        "    with open(input_file, 'r') as file:\n",
        "        words = file.read().split()\n",
        "\n",
        "    word_set = set(words)  # Convert the list of words to a set for faster lookup\n",
        "\n",
        "    start_time = time.time()\n",
        "\n",
        "    # Sort the words by length in descending order\n",
        "    words.sort(key=lambda x: (-len(x), x))\n",
        "\n",
        "    longest_compound = ''\n",
        "    second_longest_compound = ''\n",
        "    for word in words:\n",
        "        if check_compounded_words(word, word_set):\n",
        "            if not longest_compound:\n",
        "                longest_compound = word\n",
        "            elif not second_longest_compound:\n",
        "                second_longest_compound = word\n",
        "            else:\n",
        "                break\n",
        "\n",
        "    end_time = time.time()\n",
        "    time_taken = end_time - start_time\n",
        "\n",
        "    return longest_compound, second_longest_compound, time_taken"
      ],
      "metadata": {
        "id": "xGSTM-IOnbLw"
      },
      "execution_count": 16,
      "outputs": []
    },
    {
      "cell_type": "code",
      "source": [
        "\n",
        "# Input file paths (Ensure correct file paths)\n",
        "input_file_01 = '/content/Input_01.txt'\n",
        "input_file_02 = '/content/Input_02.txt'\n",
        "\n",
        "# Find the longest and second longest compounded words and measure time for Input 01\n",
        "longest_compound_01, second_longest_compound_01, time_taken_01 = find_longest_compounded_words(input_file_01)\n",
        "\n",
        "# Find the longest and second longest compounded words and measure time for Input 02\n",
        "longest_compound_02, second_longest_compound_02, time_taken_02 = find_longest_compounded_words(input_file_02)\n",
        "\n"
      ],
      "metadata": {
        "id": "f4i3t1tgnAQt"
      },
      "execution_count": 17,
      "outputs": []
    },
    {
      "cell_type": "code",
      "source": [
        "\n",
        "# outputs\n",
        "print(\"\\nInput 02 Results:\")\n",
        "print(\"Longest Compound Word:\", longest_compound_02)\n",
        "print(\"Second Longest Compound Word:\", second_longest_compound_02)\n",
        "print(\"Time taken:\", time_taken_02, \"seconds\")"
      ],
      "metadata": {
        "id": "guTpCiIkk0LE",
        "colab": {
          "base_uri": "https://localhost:8080/"
        },
        "outputId": "4886a244-5e18-4c74-8326-2f260002059a"
      },
      "execution_count": 18,
      "outputs": [
        {
          "output_type": "stream",
          "name": "stdout",
          "text": [
            "\n",
            "Input 02 Results:\n",
            "Longest Compound Word: ethylenediaminetetraacetates\n",
            "Second Longest Compound Word: electroencephalographically\n",
            "Time taken: 0.1462395191192627 seconds\n"
          ]
        }
      ]
    },
    {
      "cell_type": "code",
      "source": [
        "print(\"Input 01 Results:\")\n",
        "print(\"Longest Compound Word:\", longest_compound_01)\n",
        "print(\"Second Longest Compound Word:\", second_longest_compound_01)\n",
        "print(\"Time taken:\", time_taken_01, \"seconds\")"
      ],
      "metadata": {
        "id": "PUovv_gZk0Md",
        "colab": {
          "base_uri": "https://localhost:8080/"
        },
        "outputId": "15ce2a8c-6519-458c-9c58-e1aefcd6d3a9"
      },
      "execution_count": 19,
      "outputs": [
        {
          "output_type": "stream",
          "name": "stdout",
          "text": [
            "Input 01 Results:\n",
            "Longest Compound Word: ratcatdogcat\n",
            "Second Longest Compound Word: catsdogcats\n",
            "Time taken: 5.626678466796875e-05 seconds\n"
          ]
        }
      ]
    },
    {
      "cell_type": "code",
      "source": [],
      "metadata": {
        "id": "XOq9pTb1k0Ox"
      },
      "execution_count": 19,
      "outputs": []
    }
  ],
  "metadata": {
    "colab": {
      "provenance": [],
      "authorship_tag": "ABX9TyNr8MRymLXW1pD9D58v4pwa",
      "include_colab_link": true
    },
    "kernelspec": {
      "display_name": "Python 3",
      "name": "python3"
    },
    "language_info": {
      "name": "python"
    }
  },
  "nbformat": 4,
  "nbformat_minor": 0
}