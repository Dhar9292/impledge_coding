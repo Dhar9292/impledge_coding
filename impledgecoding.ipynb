{
  "cells": [
    {
      "cell_type": "markdown",
      "metadata": {
        "id": "view-in-github",
        "colab_type": "text"
      },
      "source": [
        "<a href=\"https://colab.research.google.com/github/Dhar9292/impledge_coding/blob/main/impledgecoding.ipynb\" target=\"_parent\"><img src=\"https://colab.research.google.com/assets/colab-badge.svg\" alt=\"Open In Colab\"/></a>"
      ]
    },
    {
      "cell_type": "code",
      "source": [
        "#importing the library"
      ],
      "metadata": {
        "id": "yP5Zxx4bLTqY"
      },
      "execution_count": 38,
      "outputs": []
    },
    {
      "cell_type": "code",
      "source": [
        "import time"
      ],
      "metadata": {
        "id": "KLiPn33gMEyl"
      },
      "execution_count": 32,
      "outputs": []
    },
    {
      "cell_type": "code",
      "source": [
        "\n",
        "class TrieNode:\n",
        "    def __init__(self):\n",
        "        self.children = {}\n",
        "        self.is_end_of_word = False"
      ],
      "metadata": {
        "id": "FwegGMQJME0k"
      },
      "execution_count": 33,
      "outputs": []
    },
    {
      "cell_type": "code",
      "source": [
        "def insert_word(root, word):\n",
        "    node = root\n",
        "    for char in word:\n",
        "        if char not in node.children:\n",
        "            node.children[char] = TrieNode()\n",
        "        node = node.children[char]\n",
        "    node.is_end_of_word = True\n",
        "\n",
        "def is_compounded(node, word):\n",
        "    for i in range(1, len(word)):\n",
        "        prefix = word[:i]\n",
        "        suffix = word[i:]\n",
        "        if prefix in node.children and (node.children[prefix].is_end_of_word or is_compounded(node.children[prefix], suffix)):\n",
        "            return True\n",
        "    return False"
      ],
      "metadata": {
        "id": "RiVau7krME4-"
      },
      "execution_count": 34,
      "outputs": []
    },
    {
      "cell_type": "code",
      "source": [
        "def find_compounded_words(words):\n",
        "    root = TrieNode()\n",
        "    for word in words:\n",
        "        insert_word(root, word)\n",
        "\n",
        "    compounded_words = set()\n",
        "    for word in words:\n",
        "        if is_compounded(root, word):\n",
        "            compounded_words.add(word)\n",
        "\n",
        "    return compounded_words\n",
        "\n",
        "def read_file(file_name):\n",
        "    with open(file_name, 'r') as file:\n",
        "        return [line.strip() for line in file]"
      ],
      "metadata": {
        "id": "kde4oooJME70"
      },
      "execution_count": 35,
      "outputs": []
    },
    {
      "cell_type": "code",
      "source": [
        "\n",
        "\n",
        "def main():\n",
        "    start_time = time.time()\n",
        "    input_file_names = ['Input_01.txt']\n",
        "    word_list = []\n",
        "    for file_name in input_file_names:\n",
        "        word_list.extend(read_file(file_name))\n",
        "\n",
        "    compounded_words = find_compounded_words(word_list)\n",
        "    compounded_words = sorted(compounded_words, key=len, reverse=True)\n",
        "\n",
        "    if len(compounded_words) >= 2:\n",
        "        longest_compounded_word = compounded_words[0]\n",
        "        second_longest_compounded_word = compounded_words[1]\n",
        "    else:\n",
        "        longest_compounded_word = \"No compounded words found\"\n",
        "        second_longest_compounded_word = \"No second compounded word found\"\n",
        "\n",
        "    end_time = time.time()\n",
        "    time_taken = end_time - start_time\n",
        "\n",
        "    print(f\"Longest Compounded Word: {longest_compounded_word}\")\n",
        "    print(f\"Second Longest Compounded Word: {second_longest_compounded_word}\")\n",
        "    print(f\"Time Taken: {time_taken} seconds\")\n",
        "\n",
        "if __name__ == \"__main__\":\n",
        "    main()\n"
      ],
      "metadata": {
        "colab": {
          "base_uri": "https://localhost:8080/"
        },
        "id": "4B2Axzm0LV2b",
        "outputId": "8e9ecbfe-ba6d-4b41-f00e-9ce9c85c40ac"
      },
      "execution_count": 36,
      "outputs": [
        {
          "output_type": "stream",
          "name": "stdout",
          "text": [
            "Longest Compounded Word: catxdogcatsrat\n",
            "Second Longest Compounded Word: ratcatdogcat\n",
            "Time Taken: 0.0013082027435302734 seconds\n"
          ]
        }
      ]
    },
    {
      "cell_type": "markdown",
      "source": [
        "Now read second file\n"
      ],
      "metadata": {
        "id": "FCCBXZOLNcb6"
      }
    },
    {
      "cell_type": "code",
      "source": [
        "def main():\n",
        "    start_time = time.time()\n",
        "    input_file_names = ['Input_02.txt']\n",
        "    word_list = []\n",
        "    for file_name in input_file_names:\n",
        "        word_list.extend(read_file(file_name))\n",
        "\n",
        "    compounded_words = find_compounded_words(word_list)\n",
        "    compounded_words = sorted(compounded_words, key=len, reverse=True)\n",
        "\n",
        "    if len(compounded_words) >= 2:\n",
        "        longest_compounded_word = compounded_words[0]\n",
        "        second_longest_compounded_word = compounded_words[1]\n",
        "    else:\n",
        "        longest_compounded_word = \"No compounded words found\"\n",
        "        second_longest_compounded_word = \"No second compounded word found\"\n",
        "\n",
        "    end_time = time.time()\n",
        "    time_taken = end_time - start_time\n",
        "\n",
        "    print(f\"Longest Compounded Word: {longest_compounded_word}\")\n",
        "    print(f\"Second Longest Compounded Word: {second_longest_compounded_word}\")\n",
        "    print(f\"Time Taken: {time_taken} seconds\")\n",
        "\n",
        "if __name__ == \"__main__\":\n",
        "    main()"
      ],
      "metadata": {
        "colab": {
          "base_uri": "https://localhost:8080/"
        },
        "id": "ZuywUuH1NsxQ",
        "outputId": "e935c671-4186-4913-d855-92105381c245"
      },
      "execution_count": 37,
      "outputs": [
        {
          "output_type": "stream",
          "name": "stdout",
          "text": [
            "Longest Compounded Word: ethylenediaminetetraacetates\n",
            "Second Longest Compounded Word: electroencephalographically\n",
            "Time Taken: 3.4226725101470947 seconds\n"
          ]
        }
      ]
    }
  ],
  "metadata": {
    "colab": {
      "provenance": [],
      "authorship_tag": "ABX9TyNRp0AaX5a29wuSaT/pkmfl",
      "include_colab_link": true
    },
    "kernelspec": {
      "display_name": "Python 3",
      "name": "python3"
    },
    "language_info": {
      "name": "python"
    }
  },
  "nbformat": 4,
  "nbformat_minor": 0
}